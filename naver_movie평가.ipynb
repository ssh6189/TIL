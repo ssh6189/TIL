from bs4 import BeautifulSoup
import re
import requests

req = requests.get('https://movie.naver.com/movie/point/af/list.nhn?page=1')
html =req.text
soup = BeautifulSoup(html, 'html.parser')
titles = soup.select('.moive')
points = soup.select('td.title > div > em')
reviews = soup.select('td.title')
print(reviews[0].contents[6])

movie_title=[]
movie_point=[]
movie_review=[]
for dom in titles :
     movie_title.append(dom.text)

for dom in points :
     movie_point.append(dom.text)

for dom in reviews :
     content = dom.contents[6]
     content = re.sub("[\n\t]", "", content)
     content = re.sub("신고", "",content)
        
     movie_review.append(dom.text)

for i in range(len(movie_title)):
    print("영화제목:", movie_title[i])
    print("평점:", movie_point[i])
    print("리뷰:", movie_reviews[i])
    print('--------')


